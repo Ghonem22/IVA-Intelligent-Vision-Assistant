{
  "nbformat": 4,
  "nbformat_minor": 0,
  "metadata": {
    "colab": {
      "name": "emotion for git.ipynb",
      "provenance": [],
      "collapsed_sections": [],
      "authorship_tag": "ABX9TyO5gPjA13DSQQn2WwBzVpXx"
    },
    "kernelspec": {
      "name": "python3",
      "display_name": "Python 3"
    }
  },
  "cells": [
    {
      "cell_type": "code",
      "metadata": {
        "id": "IGpnUfxZTS3z"
      },
      "source": [
        "from google.colab import drive\r\n",
        "drive.mount('/content/drive')"
      ],
      "execution_count": null,
      "outputs": []
    },
    {
      "cell_type": "code",
      "metadata": {
        "id": "ditws4rXThJw"
      },
      "source": [
        "from keras.callbacks import CSVLogger, ModelCheckpoint, EarlyStopping,TensorBoard, ReduceLROnPlateau\r\n",
        "from keras.preprocessing.image import ImageDataGenerator\r\n",
        "from sklearn.model_selection import train_test_split\r\n",
        "from keras.layers import Activation, Convolution2D, Dropout, Conv2D\r\n",
        "from keras.layers import AveragePooling2D, BatchNormalization, Dense\r\n",
        "from keras.layers import GlobalAveragePooling2D\r\n",
        "from keras.models import Sequential\r\n",
        "from keras.layers import Flatten\r\n",
        "from keras.models import Model\r\n",
        "from keras.layers import Input\r\n",
        "from keras.layers import MaxPooling2D\r\n",
        "from keras.layers import SeparableConv2D\r\n",
        "from keras import layers\r\n",
        "from keras.regularizers import l2\r\n",
        "import tensorflow as tf\r\n",
        "\r\n",
        "import sys, os\r\n",
        "import pandas as pd\r\n",
        "import numpy as np\r\n",
        "import cv2\r\n",
        "from keras.losses import categorical_crossentropy\r\n",
        "from keras.optimizers import Adam\r\n",
        "from keras.models import load_model"
      ],
      "execution_count": null,
      "outputs": []
    },
    {
      "cell_type": "code",
      "metadata": {
        "id": "JsPNZPL-ThHw"
      },
      "source": [
        "# Create a ZipFile Object and load sample.zip in it\\\r\n",
        "from zipfile import ZipFile \r\n",
        "with ZipFile('/content/drive/My Drive/fer2013.zip', 'r') as zipObj:\r\n",
        "# Extract all the contents of zip file in current directory\r\n",
        "    zipObj.extractall()"
      ],
      "execution_count": null,
      "outputs": []
    },
    {
      "cell_type": "code",
      "metadata": {
        "id": "XQylhl2xThFc"
      },
      "source": [
        "#Loading FER Data-set\r\n",
        "\r\n",
        "dataset_path = \"/content/fer2013.csv\"\r\n",
        "image_size=(48,48)\r\n",
        " \r\n",
        "def load_fer2013():\r\n",
        "    data = pd.read_csv(dataset_path)\r\n",
        "    pixels = data['pixels'].tolist() #Converting the relevant column element into a list for each row\r\n",
        "    width, height = 48, 48\r\n",
        "    faces = []\r\n",
        "    for pixel_sequence in pixels:\r\n",
        "        face = [int(pixel) for pixel in pixel_sequence.split(' ')] #Splitting the string by space character as a list\r\n",
        "        face = np.asarray(face).reshape(width, height)\r\n",
        "        face = cv2.resize(face.astype('uint8'),image_size) #Resizing the image\r\n",
        "        faces.append(face.astype('float32'))\r\n",
        "    faces = np.asarray(faces)\r\n",
        "    faces = np.expand_dims(faces, -1) #Expanding the dimension of channel for each image\r\n",
        "    emotions = pd.get_dummies(data['emotion']).values #Converting the labels to catergorical matrix\r\n",
        "    return faces, emotions\r\n",
        "def preprocess_input(x, v2=True):\r\n",
        "    x = x.astype('float32')\r\n",
        "    x = x / 255.0 #Normalizing the image\r\n",
        "    if v2:\r\n",
        "        x = x - 0.5\r\n",
        "        x = x * 2.0\r\n",
        "    return x\r\n",
        "faces, emotions = load_fer2013()\r\n",
        "faces = preprocess_input(faces)\r\n",
        "\r\n",
        "xtrain, xtest,ytrain,ytest = train_test_split(faces, emotions,test_size=0.2,shuffle=True)"
      ],
      "execution_count": null,
      "outputs": []
    },
    {
      "cell_type": "code",
      "metadata": {
        "id": "qddIlX7vThCx"
      },
      "source": [
        "# parameters\r\n",
        "batch_size = 64\r\n",
        "num_features = 64\r\n",
        "num_labels = 7\r\n",
        "width, height = 48, 48\r\n",
        "base_path = 'models/'\r\n",
        "l2_regularization=0.01\r\n",
        " \r\n",
        "# data generator\r\n",
        "data_generator = ImageDataGenerator(\r\n",
        "                        featurewise_center=False,\r\n",
        "                        featurewise_std_normalization=False,\r\n",
        "                        rotation_range=10,\r\n",
        "                        width_shift_range=0.1,\r\n",
        "                        height_shift_range=0.1,\r\n",
        "                        zoom_range=.1,\r\n",
        "                        horizontal_flip=True,data_format='channels_last')"
      ],
      "execution_count": null,
      "outputs": []
    },
    {
      "cell_type": "code",
      "metadata": {
        "id": "BgF50qY8VGvY"
      },
      "source": [
        ""
      ],
      "execution_count": null,
      "outputs": []
    },
    {
      "cell_type": "code",
      "metadata": {
        "colab": {
          "base_uri": "https://localhost:8080/"
        },
        "id": "D3sqyJWxLcFf",
        "outputId": "061621ee-59b9-4227-a6c5-0503d0999be5"
      },
      "source": [
        "model = Sequential()\r\n",
        "\r\n",
        "model.add(Conv2D(num_features, kernel_size=(3, 3), activation='relu', input_shape=(width, height, 1), data_format='channels_last', kernel_regularizer=l2(0.01)))\r\n",
        "model.add(Conv2D(num_features, kernel_size=(3, 3), activation='relu', padding='same'))\r\n",
        "model.add(BatchNormalization())\r\n",
        "model.add(MaxPooling2D(pool_size=(2, 2), strides=(2, 2)))\r\n",
        "model.add(Dropout(0.5))\r\n",
        "\r\n",
        "model.add(Conv2D(2*num_features, kernel_size=(3, 3), activation='relu', padding='same'))\r\n",
        "model.add(BatchNormalization())\r\n",
        "model.add(Conv2D(2*num_features, kernel_size=(3, 3), activation='relu', padding='same'))\r\n",
        "model.add(BatchNormalization())\r\n",
        "model.add(MaxPooling2D(pool_size=(2, 2), strides=(2, 2)))\r\n",
        "model.add(Dropout(0.5))\r\n",
        "\r\n",
        "model.add(Conv2D(2*2*num_features, kernel_size=(3, 3), activation='relu', padding='same'))\r\n",
        "model.add(BatchNormalization())\r\n",
        "model.add(Conv2D(2*2*num_features, kernel_size=(3, 3), activation='relu', padding='same'))\r\n",
        "model.add(BatchNormalization())\r\n",
        "model.add(MaxPooling2D(pool_size=(2, 2), strides=(2, 2)))\r\n",
        "model.add(Dropout(0.5))\r\n",
        "\r\n",
        "model.add(Conv2D(2*2*2*num_features, kernel_size=(3, 3), activation='relu', padding='same'))\r\n",
        "model.add(BatchNormalization())\r\n",
        "model.add(Conv2D(2*2*2*num_features, kernel_size=(3, 3), activation='relu', padding='same'))\r\n",
        "model.add(BatchNormalization())\r\n",
        "model.add(MaxPooling2D(pool_size=(2, 2), strides=(2, 2)))\r\n",
        "model.add(Dropout(0.5))\r\n",
        "\r\n",
        "model.add(Flatten())\r\n",
        "model.add(Dropout(0.4))\r\n",
        "\r\n",
        "model.add(Dense(2*2*2*num_features, activation='relu'))\r\n",
        "model.add(Dropout(0.2))\r\n",
        "model.add(Dense(2*2*num_features, activation='relu'))\r\n",
        "model.add(Dropout(0.2))\r\n",
        "model.add(Dense(2*num_features, activation='relu'))\r\n",
        "model.add(Dropout(0.1))\r\n",
        "\r\n",
        "model.add(Dense(num_labels, activation='softmax'))\r\n",
        "model.summary()"
      ],
      "execution_count": null,
      "outputs": [
        {
          "output_type": "stream",
          "text": [
            "Model: \"sequential_9\"\n",
            "_________________________________________________________________\n",
            "Layer (type)                 Output Shape              Param #   \n",
            "=================================================================\n",
            "conv2d_64 (Conv2D)           (None, 46, 46, 64)        640       \n",
            "_________________________________________________________________\n",
            "conv2d_65 (Conv2D)           (None, 46, 46, 64)        36928     \n",
            "_________________________________________________________________\n",
            "batch_normalization_41 (Batc (None, 46, 46, 64)        256       \n",
            "_________________________________________________________________\n",
            "max_pooling2d_32 (MaxPooling (None, 23, 23, 64)        0         \n",
            "_________________________________________________________________\n",
            "dropout_64 (Dropout)         (None, 23, 23, 64)        0         \n",
            "_________________________________________________________________\n",
            "conv2d_66 (Conv2D)           (None, 23, 23, 128)       73856     \n",
            "_________________________________________________________________\n",
            "batch_normalization_42 (Batc (None, 23, 23, 128)       512       \n",
            "_________________________________________________________________\n",
            "conv2d_67 (Conv2D)           (None, 23, 23, 128)       147584    \n",
            "_________________________________________________________________\n",
            "batch_normalization_43 (Batc (None, 23, 23, 128)       512       \n",
            "_________________________________________________________________\n",
            "max_pooling2d_33 (MaxPooling (None, 11, 11, 128)       0         \n",
            "_________________________________________________________________\n",
            "dropout_65 (Dropout)         (None, 11, 11, 128)       0         \n",
            "_________________________________________________________________\n",
            "conv2d_68 (Conv2D)           (None, 11, 11, 256)       295168    \n",
            "_________________________________________________________________\n",
            "batch_normalization_44 (Batc (None, 11, 11, 256)       1024      \n",
            "_________________________________________________________________\n",
            "conv2d_69 (Conv2D)           (None, 11, 11, 256)       590080    \n",
            "_________________________________________________________________\n",
            "batch_normalization_45 (Batc (None, 11, 11, 256)       1024      \n",
            "_________________________________________________________________\n",
            "max_pooling2d_34 (MaxPooling (None, 5, 5, 256)         0         \n",
            "_________________________________________________________________\n",
            "dropout_66 (Dropout)         (None, 5, 5, 256)         0         \n",
            "_________________________________________________________________\n",
            "conv2d_70 (Conv2D)           (None, 5, 5, 512)         1180160   \n",
            "_________________________________________________________________\n",
            "batch_normalization_46 (Batc (None, 5, 5, 512)         2048      \n",
            "_________________________________________________________________\n",
            "conv2d_71 (Conv2D)           (None, 5, 5, 512)         2359808   \n",
            "_________________________________________________________________\n",
            "batch_normalization_47 (Batc (None, 5, 5, 512)         2048      \n",
            "_________________________________________________________________\n",
            "max_pooling2d_35 (MaxPooling (None, 2, 2, 512)         0         \n",
            "_________________________________________________________________\n",
            "dropout_67 (Dropout)         (None, 2, 2, 512)         0         \n",
            "_________________________________________________________________\n",
            "flatten_8 (Flatten)          (None, 2048)              0         \n",
            "_________________________________________________________________\n",
            "dropout_68 (Dropout)         (None, 2048)              0         \n",
            "_________________________________________________________________\n",
            "dense_32 (Dense)             (None, 512)               1049088   \n",
            "_________________________________________________________________\n",
            "dropout_69 (Dropout)         (None, 512)               0         \n",
            "_________________________________________________________________\n",
            "dense_33 (Dense)             (None, 256)               131328    \n",
            "_________________________________________________________________\n",
            "dropout_70 (Dropout)         (None, 256)               0         \n",
            "_________________________________________________________________\n",
            "dense_34 (Dense)             (None, 128)               32896     \n",
            "_________________________________________________________________\n",
            "dropout_71 (Dropout)         (None, 128)               0         \n",
            "_________________________________________________________________\n",
            "dense_35 (Dense)             (None, 7)                 903       \n",
            "=================================================================\n",
            "Total params: 5,905,863\n",
            "Trainable params: 5,902,151\n",
            "Non-trainable params: 3,712\n",
            "_________________________________________________________________\n"
          ],
          "name": "stdout"
        }
      ]
    },
    {
      "cell_type": "code",
      "metadata": {
        "id": "sP5PrSkaTg-Q"
      },
      "source": [
        "model.compile(loss=categorical_crossentropy,\r\n",
        "              optimizer=Adam(lr=0.001, beta_1=0.9, beta_2=0.999, epsilon=1e-7),\r\n",
        "              metrics=['accuracy'])"
      ],
      "execution_count": null,
      "outputs": []
    },
    {
      "cell_type": "code",
      "metadata": {
        "id": "VlV9Jci3Tg7N"
      },
      "source": [
        "lr_reducer = ReduceLROnPlateau(monitor='val_loss', factor=0.3, patience=3, verbose=1)\r\n",
        "early_stopper = EarlyStopping(monitor='val_loss', min_delta=0, patience=8, verbose=1, mode='auto')"
      ],
      "execution_count": null,
      "outputs": []
    },
    {
      "cell_type": "code",
      "metadata": {
        "id": "rOyNeZowTg5t"
      },
      "source": [
        "lr_reducer = ReduceLROnPlateau(monitor='val_loss', factor=0.3, patience=3, verbose=1)\r\n",
        "early_stopper = EarlyStopping(monitor='val_loss', min_delta=0, patience=8, verbose=1, mode='auto')"
      ],
      "execution_count": null,
      "outputs": []
    },
    {
      "cell_type": "code",
      "metadata": {
        "colab": {
          "base_uri": "https://localhost:8080/"
        },
        "id": "2ihwIZMVLb8J",
        "outputId": "18174b07-9399-493d-9ab0-f76410e3d0e7"
      },
      "source": [
        "history=model.fit(np.array(xtrain), np.array(ytrain),\r\n",
        "          batch_size=batch_size,\r\n",
        "          epochs=50,\r\n",
        "          verbose=1,\r\n",
        "          validation_data=(np.array(xtest), np.array(ytest)),\r\n",
        "          shuffle=True,\r\n",
        "          callbacks=[lr_reducer, early_stopper])\r\n"
      ],
      "execution_count": null,
      "outputs": [
        {
          "output_type": "stream",
          "text": [
            "Epoch 1/50\n",
            "449/449 [==============================] - 13s 26ms/step - loss: 2.1229 - accuracy: 0.2072 - val_loss: 1.8316 - val_accuracy: 0.2522\n",
            "Epoch 2/50\n",
            "449/449 [==============================] - 11s 25ms/step - loss: 1.7703 - accuracy: 0.2721 - val_loss: 1.5803 - val_accuracy: 0.3940\n",
            "Epoch 3/50\n",
            "449/449 [==============================] - 11s 25ms/step - loss: 1.5708 - accuracy: 0.3828 - val_loss: 1.3813 - val_accuracy: 0.4620\n",
            "Epoch 4/50\n",
            "449/449 [==============================] - 11s 25ms/step - loss: 1.4083 - accuracy: 0.4640 - val_loss: 1.3285 - val_accuracy: 0.4912\n",
            "Epoch 5/50\n",
            "449/449 [==============================] - 11s 25ms/step - loss: 1.3248 - accuracy: 0.4979 - val_loss: 1.2489 - val_accuracy: 0.5256\n",
            "Epoch 6/50\n",
            "449/449 [==============================] - 11s 25ms/step - loss: 1.2701 - accuracy: 0.5184 - val_loss: 1.1826 - val_accuracy: 0.5628\n",
            "Epoch 7/50\n",
            "449/449 [==============================] - 11s 25ms/step - loss: 1.2214 - accuracy: 0.5401 - val_loss: 1.1785 - val_accuracy: 0.5521\n",
            "Epoch 8/50\n",
            "449/449 [==============================] - 11s 25ms/step - loss: 1.1789 - accuracy: 0.5588 - val_loss: 1.1494 - val_accuracy: 0.5692\n",
            "Epoch 9/50\n",
            "449/449 [==============================] - 11s 25ms/step - loss: 1.1519 - accuracy: 0.5688 - val_loss: 1.1714 - val_accuracy: 0.5687\n",
            "Epoch 10/50\n",
            "449/449 [==============================] - 11s 25ms/step - loss: 1.1284 - accuracy: 0.5802 - val_loss: 1.0904 - val_accuracy: 0.5942\n",
            "Epoch 11/50\n",
            "449/449 [==============================] - 11s 25ms/step - loss: 1.0970 - accuracy: 0.5914 - val_loss: 1.0846 - val_accuracy: 0.5957\n",
            "Epoch 12/50\n",
            "449/449 [==============================] - 11s 25ms/step - loss: 1.0714 - accuracy: 0.5997 - val_loss: 1.0971 - val_accuracy: 0.5949\n",
            "Epoch 13/50\n",
            "449/449 [==============================] - 11s 25ms/step - loss: 1.0457 - accuracy: 0.6097 - val_loss: 1.0362 - val_accuracy: 0.6180\n",
            "Epoch 14/50\n",
            "449/449 [==============================] - 11s 25ms/step - loss: 1.0215 - accuracy: 0.6210 - val_loss: 1.0401 - val_accuracy: 0.6218\n",
            "Epoch 15/50\n",
            "449/449 [==============================] - 11s 25ms/step - loss: 1.0029 - accuracy: 0.6333 - val_loss: 1.0331 - val_accuracy: 0.6199\n",
            "Epoch 16/50\n",
            "449/449 [==============================] - 11s 25ms/step - loss: 0.9721 - accuracy: 0.6421 - val_loss: 1.0505 - val_accuracy: 0.6186\n",
            "Epoch 17/50\n",
            "449/449 [==============================] - 11s 25ms/step - loss: 0.9535 - accuracy: 0.6522 - val_loss: 1.0099 - val_accuracy: 0.6287\n",
            "Epoch 18/50\n",
            "449/449 [==============================] - 11s 25ms/step - loss: 0.9274 - accuracy: 0.6605 - val_loss: 1.0146 - val_accuracy: 0.6336\n",
            "Epoch 19/50\n",
            "449/449 [==============================] - 11s 25ms/step - loss: 0.9122 - accuracy: 0.6643 - val_loss: 1.0494 - val_accuracy: 0.6251\n",
            "Epoch 20/50\n",
            "449/449 [==============================] - 11s 25ms/step - loss: 0.8807 - accuracy: 0.6808 - val_loss: 1.0336 - val_accuracy: 0.6300\n",
            "\n",
            "Epoch 00020: ReduceLROnPlateau reducing learning rate to 0.0003000000142492354.\n",
            "Epoch 21/50\n",
            "449/449 [==============================] - 11s 25ms/step - loss: 0.8245 - accuracy: 0.6962 - val_loss: 0.9688 - val_accuracy: 0.6524\n",
            "Epoch 22/50\n",
            "449/449 [==============================] - 11s 25ms/step - loss: 0.7632 - accuracy: 0.7206 - val_loss: 0.9803 - val_accuracy: 0.6535\n",
            "Epoch 23/50\n",
            "449/449 [==============================] - 11s 25ms/step - loss: 0.7420 - accuracy: 0.7291 - val_loss: 0.9927 - val_accuracy: 0.6578\n",
            "Epoch 24/50\n",
            "449/449 [==============================] - 11s 25ms/step - loss: 0.7144 - accuracy: 0.7387 - val_loss: 1.0080 - val_accuracy: 0.6567\n",
            "\n",
            "Epoch 00024: ReduceLROnPlateau reducing learning rate to 9.000000427477062e-05.\n",
            "Epoch 25/50\n",
            "449/449 [==============================] - 11s 25ms/step - loss: 0.6776 - accuracy: 0.7485 - val_loss: 1.0055 - val_accuracy: 0.6601\n",
            "Epoch 26/50\n",
            "449/449 [==============================] - 11s 25ms/step - loss: 0.6641 - accuracy: 0.7572 - val_loss: 1.0077 - val_accuracy: 0.6590\n",
            "Epoch 27/50\n",
            "449/449 [==============================] - 11s 25ms/step - loss: 0.6549 - accuracy: 0.7589 - val_loss: 1.0087 - val_accuracy: 0.6595\n",
            "\n",
            "Epoch 00027: ReduceLROnPlateau reducing learning rate to 2.700000040931627e-05.\n",
            "Epoch 28/50\n",
            "449/449 [==============================] - 11s 25ms/step - loss: 0.6485 - accuracy: 0.7603 - val_loss: 1.0166 - val_accuracy: 0.6612\n",
            "Epoch 29/50\n",
            "449/449 [==============================] - 11s 25ms/step - loss: 0.6475 - accuracy: 0.7605 - val_loss: 1.0199 - val_accuracy: 0.6602\n",
            "Epoch 00029: early stopping\n"
          ],
          "name": "stdout"
        }
      ]
    },
    {
      "cell_type": "code",
      "metadata": {
        "colab": {
          "base_uri": "https://localhost:8080/",
          "height": 573
        },
        "id": "jUCkx7DPLbtu",
        "outputId": "3301c72b-6a70-4502-c2e6-4ecfee3ce3c8"
      },
      "source": [
        "import matplotlib.pyplot as plt\r\n",
        "\r\n",
        "plt.plot(history.history['accuracy'])\r\n",
        "plt.plot(history.history['val_accuracy'])\r\n",
        "plt.title('model accuracy')\r\n",
        "plt.ylabel('accuracy')\r\n",
        "plt.xlabel('epoch')\r\n",
        "plt.legend(['train', 'test'], loc='upper left')\r\n",
        "plt.show()\r\n",
        "# summarize history for loss\r\n",
        "plt.plot(history.history['loss'])\r\n",
        "plt.plot(history.history['val_loss'])\r\n",
        "plt.title('model loss')\r\n",
        "plt.ylabel('loss')\r\n",
        "plt.xlabel('epoch')\r\n",
        "plt.legend(['train', 'test'], loc='upper left')\r\n",
        "plt.show()"
      ],
      "execution_count": null,
      "outputs": [
        {
          "output_type": "display_data",
          "data": {
            "image/png": "[encoded data removed]",
            "text/plain": [
              "<Figure size 432x288 with 1 Axes>"
            ]
          },
          "metadata": {
            "tags": [],
            "needs_background": "light"
          }
        },
        {
          "output_type": "display_data",
          "data": {
            "image/png": "[encoded data removed]",
            "text/plain": [
              "<Figure size 432x288 with 1 Axes>"
            ]
          },
          "metadata": {
            "tags": [],
            "needs_background": "light"
          }
        }
      ]
    },
    {
      "cell_type": "code",
      "metadata": {
        "colab": {
          "base_uri": "https://localhost:8080/"
        },
        "id": "VndXpfsaNJvK",
        "outputId": "4c096e7e-6362-4d09-e9d9-b5113f7b850b"
      },
      "source": [
        "# Model Evaluation\r\n",
        "train_score = model.evaluate(xtrain, ytrain, verbose=0)\r\n",
        "print(\"Train score is \",train_score)\r\n",
        "test_score = model.evaluate(xtest, ytest, verbose=0)\r\n",
        "print(\"Test score is \",test_score)\r\n"
      ],
      "execution_count": null,
      "outputs": [
        {
          "output_type": "stream",
          "text": [
            "Train score is  [0.4371616840362549, 0.8386917114257812]\n",
            "Test score is  [1.0199192762374878, 0.6602117419242859]\n"
          ],
          "name": "stdout"
        }
      ]
    }
  ]
}